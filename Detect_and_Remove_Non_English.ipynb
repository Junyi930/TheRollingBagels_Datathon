{
  "nbformat": 4,
  "nbformat_minor": 0,
  "metadata": {
    "colab": {
      "provenance": []
    },
    "kernelspec": {
      "name": "python3",
      "display_name": "Python 3"
    },
    "language_info": {
      "name": "python"
    }
  },
  "cells": [
    {
      "cell_type": "markdown",
      "source": [
        "Detect English"
      ],
      "metadata": {
        "id": "M58ZeZH2fm6Z"
      }
    },
    {
      "cell_type": "code",
      "source": [
        "import pandas as pd\n",
        "import langid\n",
        "from tqdm import tqdm\n",
        "\n",
        "# ===============================================\n",
        "# 📂 File Paths (Edit as needed)\n",
        "# ===============================================\n",
        "INPUT_CSV = r\"C:\\Users\\User\\Desktop\\Datathon\\spam_output(A).csv\"\n",
        "OUTPUT_CSV = r\"C:\\Users\\User\\Desktop\\Datathon\\lang_detect.csv\"\n",
        "\n",
        "# ===============================================\n",
        "# 📥 Load CSV\n",
        "# ===============================================\n",
        "try:\n",
        "    df = pd.read_csv(INPUT_CSV, encoding=\"utf-8\")\n",
        "    print(f\"✅ Loaded {len(df)} rows from: {INPUT_CSV}\")\n",
        "except FileNotFoundError:\n",
        "    print(f\"❌ File not found: {INPUT_CSV}\")\n",
        "    raise SystemExit\n",
        "\n",
        "# ===============================================\n",
        "# 🧠 Language Detection Logic\n",
        "# ===============================================\n",
        "def is_english(text):\n",
        "    if not isinstance(text, str) or text.strip() == \"\":\n",
        "        return 0\n",
        "    lang, _ = langid.classify(text)\n",
        "    return 1 if lang == \"en\" else 0\n",
        "\n",
        "# ===============================================\n",
        "# 🚀 Detect English with Clean tqdm Bar\n",
        "# ===============================================\n",
        "columns_to_check = [\"textOriginal\", \"title\"]\n",
        "\n",
        "for col in columns_to_check:\n",
        "    if col not in df.columns:\n",
        "        print(f\"⚠️ Column '{col}' not found. Skipping.\")\n",
        "        continue\n",
        "\n",
        "    print(f\"🧠 Detecting English in column: {col}\")\n",
        "    df[f\"is_en_{col}\"] = list(\n",
        "        tqdm(\n",
        "            (is_english(text) for text in df[col]),\n",
        "            total=len(df),\n",
        "            desc=f\"Detecting English: {col}\",\n",
        "            unit=\"rows\",\n",
        "        )\n",
        "    )\n",
        "\n",
        "# ===============================================\n",
        "# 💾 Save Result\n",
        "# ===============================================\n",
        "df.to_csv(OUTPUT_CSV, index=False, encoding=\"utf-8\")\n",
        "print(f\"🎉 English detection complete. Output saved to:\\n{OUTPUT_CSV}\")\n"
      ],
      "metadata": {
        "id": "6W_TdDLJlf3z",
        "colab": {
          "base_uri": "https://localhost:8080/"
        },
        "outputId": "f7eb8f18-9f7e-4cb9-8731-552e08c40c8d"
      },
      "execution_count": null,
      "outputs": [
        {
          "output_type": "stream",
          "name": "stdout",
          "text": [
            "✅ Loaded 889782 rows from: C:\\Users\\User\\Desktop\\Datathon\\spam_output(A).csv\n",
            "🧠 Detecting English in column: textOriginal\n"
          ]
        },
        {
          "output_type": "stream",
          "name": "stderr",
          "text": [
            "Detecting English: textOriginal: 100%|██████████████████████████████████████| 889782/889782 [53:01<00:00, 279.68rows/s]\n"
          ]
        },
        {
          "output_type": "stream",
          "name": "stdout",
          "text": [
            "🧠 Detecting English in column: title\n"
          ]
        },
        {
          "output_type": "stream",
          "name": "stderr",
          "text": [
            "Detecting English: title: 100%|█████████████████████████████████████████████| 889782/889782 [54:37<00:00, 271.50rows/s]\n"
          ]
        },
        {
          "output_type": "stream",
          "name": "stdout",
          "text": [
            "🎉 English detection complete. Output saved to:\n",
            "C:\\Users\\User\\Desktop\\Datathon\\lang_detect.csv\n"
          ]
        }
      ]
    },
    {
      "cell_type": "markdown",
      "source": [
        "Remove Non-English"
      ],
      "metadata": {
        "id": "pf1BxvQNfqBg"
      }
    },
    {
      "cell_type": "code",
      "source": [
        "import pandas as pd\n",
        "\n",
        "# ==== CONFIG ====\n",
        "INPUT_CSV  = r\"C:\\Users\\User\\Desktop\\Datathon\\lang_detect.csv\"\n",
        "OUTPUT_CSV = r\"C:\\Users\\User\\Desktop\\Datathon\\lang_remove.csv\"\n",
        "\n",
        "# ==== 1) Load CSV ====\n",
        "df = pd.read_csv(INPUT_CSV)\n",
        "\n",
        "# ==== 2) Filter only English rows ====\n",
        "df_en = df[df[\"is_en_textOriginal\"] == 1]\n",
        "\n",
        "# ==== 3) Save filtered data ====\n",
        "df_en.to_csv(OUTPUT_CSV, index=False, encoding=\"utf-8-sig\")\n",
        "\n",
        "print(f\"✅ Done! From {len(df)} rows → kept {len(df_en)} English rows.\")\n",
        "print(f\"File saved to: {OUTPUT_CSV}\")\n"
      ],
      "metadata": {
        "colab": {
          "base_uri": "https://localhost:8080/"
        },
        "id": "A-xIrEfhH5UH",
        "outputId": "d75d5f31-429b-443d-bc8c-eed1d67078f4"
      },
      "execution_count": null,
      "outputs": [
        {
          "output_type": "stream",
          "name": "stdout",
          "text": [
            "✅ Done! From 889782 rows → kept 623223 English rows.\n",
            "File saved to: C:\\Users\\User\\Desktop\\Datathon\\lang_remove.csv\n"
          ]
        }
      ]
    }
  ]
}